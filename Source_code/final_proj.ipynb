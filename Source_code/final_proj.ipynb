{
 "cells": [
  {
   "cell_type": "code",
   "execution_count": 1,
   "metadata": {},
   "outputs": [],
   "source": [
    "#Note: Please run pip install keras, and pip install tensoflow to use the libraries utilized in this code\n",
    "#Documentation to Keras API\n",
    "import matplotlib.pyplot as plt\n",
    "import sys, os, re, csv, codecs, numpy as np, pandas as pd\n",
    "from sklearn.model_selection import train_test_split\n",
    "from sklearn.metrics import accuracy_score\n",
    "from sklearn.metrics import roc_auc_score\n",
    "from keras.preprocessing.text import Tokenizer\n",
    "from keras.preprocessing.sequence import pad_sequences\n",
    "from keras.models import Model\n",
    "from keras.layers import Activation, Dense, Dropout, Embedding, Input, LSTM\n",
    "from keras.layers import Bidirectional,Conv1D, GlobalMaxPool1D\n",
    "from keras import initializers, constraints, regularizers, optimizers, layers\n",
    "from keras.callbacks import EarlyStopping, ModelCheckpoint"
   ]
  },
  {
   "cell_type": "code",
   "execution_count": 2,
   "metadata": {},
   "outputs": [],
   "source": [
    "#Reading in data\n",
    "train = pd.read_csv('train.csv')"
   ]
  },
  {
   "cell_type": "code",
   "execution_count": 3,
   "metadata": {},
   "outputs": [
    {
     "data": {
      "text/html": [
       "<div>\n",
       "<style scoped>\n",
       "    .dataframe tbody tr th:only-of-type {\n",
       "        vertical-align: middle;\n",
       "    }\n",
       "\n",
       "    .dataframe tbody tr th {\n",
       "        vertical-align: top;\n",
       "    }\n",
       "\n",
       "    .dataframe thead th {\n",
       "        text-align: right;\n",
       "    }\n",
       "</style>\n",
       "<table border=\"1\" class=\"dataframe\">\n",
       "  <thead>\n",
       "    <tr style=\"text-align: right;\">\n",
       "      <th></th>\n",
       "      <th>id</th>\n",
       "      <th>comment_text</th>\n",
       "      <th>toxic</th>\n",
       "      <th>severe_toxic</th>\n",
       "      <th>obscene</th>\n",
       "      <th>threat</th>\n",
       "      <th>insult</th>\n",
       "      <th>identity_hate</th>\n",
       "    </tr>\n",
       "  </thead>\n",
       "  <tbody>\n",
       "    <tr>\n",
       "      <th>0</th>\n",
       "      <td>0000997932d777bf</td>\n",
       "      <td>Explanation\\nWhy the edits made under my usern...</td>\n",
       "      <td>0</td>\n",
       "      <td>0</td>\n",
       "      <td>0</td>\n",
       "      <td>0</td>\n",
       "      <td>0</td>\n",
       "      <td>0</td>\n",
       "    </tr>\n",
       "    <tr>\n",
       "      <th>1</th>\n",
       "      <td>000103f0d9cfb60f</td>\n",
       "      <td>D'aww! He matches this background colour I'm s...</td>\n",
       "      <td>0</td>\n",
       "      <td>0</td>\n",
       "      <td>0</td>\n",
       "      <td>0</td>\n",
       "      <td>0</td>\n",
       "      <td>0</td>\n",
       "    </tr>\n",
       "    <tr>\n",
       "      <th>2</th>\n",
       "      <td>000113f07ec002fd</td>\n",
       "      <td>Hey man, I'm really not trying to edit war. It...</td>\n",
       "      <td>0</td>\n",
       "      <td>0</td>\n",
       "      <td>0</td>\n",
       "      <td>0</td>\n",
       "      <td>0</td>\n",
       "      <td>0</td>\n",
       "    </tr>\n",
       "    <tr>\n",
       "      <th>3</th>\n",
       "      <td>0001b41b1c6bb37e</td>\n",
       "      <td>\"\\nMore\\nI can't make any real suggestions on ...</td>\n",
       "      <td>0</td>\n",
       "      <td>0</td>\n",
       "      <td>0</td>\n",
       "      <td>0</td>\n",
       "      <td>0</td>\n",
       "      <td>0</td>\n",
       "    </tr>\n",
       "    <tr>\n",
       "      <th>4</th>\n",
       "      <td>0001d958c54c6e35</td>\n",
       "      <td>You, sir, are my hero. Any chance you remember...</td>\n",
       "      <td>0</td>\n",
       "      <td>0</td>\n",
       "      <td>0</td>\n",
       "      <td>0</td>\n",
       "      <td>0</td>\n",
       "      <td>0</td>\n",
       "    </tr>\n",
       "  </tbody>\n",
       "</table>\n",
       "</div>"
      ],
      "text/plain": [
       "                 id                                       comment_text  toxic  \\\n",
       "0  0000997932d777bf  Explanation\\nWhy the edits made under my usern...      0   \n",
       "1  000103f0d9cfb60f  D'aww! He matches this background colour I'm s...      0   \n",
       "2  000113f07ec002fd  Hey man, I'm really not trying to edit war. It...      0   \n",
       "3  0001b41b1c6bb37e  \"\\nMore\\nI can't make any real suggestions on ...      0   \n",
       "4  0001d958c54c6e35  You, sir, are my hero. Any chance you remember...      0   \n",
       "\n",
       "   severe_toxic  obscene  threat  insult  identity_hate  \n",
       "0             0        0       0       0              0  \n",
       "1             0        0       0       0              0  \n",
       "2             0        0       0       0              0  \n",
       "3             0        0       0       0              0  \n",
       "4             0        0       0       0              0  "
      ]
     },
     "execution_count": 3,
     "metadata": {},
     "output_type": "execute_result"
    }
   ],
   "source": [
    "#Showing the head of data to take a peek\n",
    "train.head()"
   ]
  },
  {
   "cell_type": "code",
   "execution_count": 7,
   "metadata": {},
   "outputs": [
    {
     "data": {
      "text/plain": [
       "0         Explanation\\nWhy the edits made under my usern...\n",
       "1         D'aww! He matches this background colour I'm s...\n",
       "2         Hey man, I'm really not trying to edit war. It...\n",
       "3         \"\\nMore\\nI can't make any real suggestions on ...\n",
       "4         You, sir, are my hero. Any chance you remember...\n",
       "                                ...                        \n",
       "159566    \":::::And for the second time of asking, when ...\n",
       "159567    You should be ashamed of yourself \\n\\nThat is ...\n",
       "159568    Spitzer \\n\\nUmm, theres no actual article for ...\n",
       "159569    And it looks like it was actually you who put ...\n",
       "159570    \"\\nAnd ... I really don't think you understand...\n",
       "Name: comment_text, Length: 159571, dtype: object"
      ]
     },
     "execution_count": 7,
     "metadata": {},
     "output_type": "execute_result"
    }
   ],
   "source": [
    "#Setting up the variables\n",
    "categories=[\"toxic\",\"severe_toxic\",\"obscene\",\"threat\",\"insult\",\"identity_hate\"]\n",
    "y=train[categories].values\n",
    "train_set=train[\"comment_text\"]\n",
    "#Filling in empty fields\n",
    "train_set.fillna(' ')\n"
   ]
  },
  {
   "cell_type": "code",
   "execution_count": 8,
   "metadata": {},
   "outputs": [],
   "source": [
    "#Hyperparameters\n",
    "maxfeatures = 25000\n",
    "maxlen=250\n",
    "dropout_rate=0.2\n",
    "batch_size = 32\n",
    "epochs = 2\n",
    "embed_d = 128"
   ]
  },
  {
   "cell_type": "code",
   "execution_count": 14,
   "metadata": {},
   "outputs": [],
   "source": [
    "#Tokenizing sentences using the default tokenizer provided by kears\n",
    "tokenizer = Tokenizer(num_words=maxfeatures)\n",
    "tokenizer.fit_on_texts(list(train_set))\n",
    "tokenized_train = tokenizer.texts_to_sequences(train_set)"
   ]
  },
  {
   "cell_type": "code",
   "execution_count": 16,
   "metadata": {},
   "outputs": [],
   "source": [
    "X_train = pad_sequences(tokenized_train, maxlen)"
   ]
  },
  {
   "cell_type": "code",
   "execution_count": 17,
   "metadata": {},
   "outputs": [],
   "source": [
    "length_of_seq = [len(seq) for seq in tokenized_train]"
   ]
  },
  {
   "cell_type": "code",
   "execution_count": 18,
   "metadata": {},
   "outputs": [
    {
     "data": {
      "image/png": "[encoded data removed]",
      "text/plain": [
       "<Figure size 432x288 with 1 Axes>"
      ]
     },
     "metadata": {
      "needs_background": "light"
     },
     "output_type": "display_data"
    }
   ],
   "source": [
    "#Take a look at the average length of a sequence\n",
    "plt.hist(length_of_seq,bins = np.arange(0,500,20))\n",
    "plt.show()"
   ]
  },
  {
   "cell_type": "code",
   "execution_count": 22,
   "metadata": {},
   "outputs": [],
   "source": [
    "#Layers: Embedding into bidirecitonal LSTM->Convousion 1 D->Max pooling->dropout->ReLu->dropout->sigmoid\n",
    "def lstm_cnn():\n",
    "    inputt = Input(shape=(maxlen, ))\n",
    "    x = Embedding(maxfeatures, embed_d)(inputt)\n",
    "    #https://keras.io/api/layers/recurrent_layers/bidirectional/\n",
    "    #https://keras.io/api/layers/recurrent_layers/lstm/\n",
    "    x = Bidirectional(LSTM(60, return_sequences=True,name='lstm'))(x)\n",
    "    #https://keras.io/api/layers/convolution_layers/convolution1d/\n",
    "    x = Conv1D(64, 4,padding =\"valid\",kernel_initializer = \"glorot_uniform\")(x)\n",
    "    x = GlobalMaxPool1D()(x)\n",
    "    x = Dropout(dropout_rate)(x)\n",
    "    x = Dense(60,activation=\"relu\")(x)\n",
    "    x = Dropout(dropout_rate)(x)\n",
    "    x = Dense(6,activation=\"sigmoid\")(x)\n",
    "    model=Model(inputt,x)\n",
    "    #https://keras.io/api/models/model_training_apis/#compile-method\n",
    "    model.compile(loss='binary_crossentropy',optimizer='adam',metrics=['accuracy'])\n",
    "    return model"
   ]
  },
  {
   "cell_type": "code",
   "execution_count": 23,
   "metadata": {},
   "outputs": [],
   "source": [
    "#Layers: Embedding into LSTM ->Max pooling->dropout->ReLu->dropout->sigmoid\n",
    "def lstm():\n",
    "    inputt = Input(shape=(maxlen, ))\n",
    "    x = Embedding(maxfeatures, embed_d)(inputt)\n",
    "    #https://keras.io/api/layers/recurrent_layers/lstm/\n",
    "    x = LSTM(60, return_sequences=True,name='lstm')(x)\n",
    "    x = GlobalMaxPool1D()(x)\n",
    "    x = Dropout(dropout_rate)(x)\n",
    "    x = Dense(60,activation=\"relu\")(x)\n",
    "    x = Dropout(dropout_rate)(x)\n",
    "    x = Dense(6,activation=\"sigmoid\")(x)\n",
    "    model=Model(inputt,x)\n",
    "    #https://keras.io/api/models/model_training_apis/#compile-method\n",
    "    model.compile(loss='binary_crossentropy',optimizer='adam',metrics=['accuracy'])\n",
    "    return model"
   ]
  },
  {
   "cell_type": "code",
   "execution_count": 24,
   "metadata": {},
   "outputs": [],
   "source": [
    "#Declaring the two models\n",
    "model1=lstm_cnn()\n",
    "model2=lstm()\n"
   ]
  },
  {
   "cell_type": "code",
   "execution_count": 25,
   "metadata": {},
   "outputs": [
    {
     "name": "stdout",
     "output_type": "stream",
     "text": [
      "Epoch 1/2\n",
      "4488/4488 [==============================] - ETA: 0s - loss: 0.0601 - accuracy: 0.9592\n",
      "Epoch 00001: val_loss improved from inf to 0.04924, saving model to best_weights_model1.hdf5\n",
      "4488/4488 [==============================] - 704s 157ms/step - loss: 0.0601 - accuracy: 0.9592 - val_loss: 0.0492 - val_accuracy: 0.9935\n",
      "Epoch 2/2\n",
      "4488/4488 [==============================] - ETA: 0s - loss: 0.0423 - accuracy: 0.9760\n",
      "Epoch 00002: val_loss improved from 0.04924 to 0.04724, saving model to best_weights_model1.hdf5\n",
      "4488/4488 [==============================] - 674s 150ms/step - loss: 0.0423 - accuracy: 0.9760 - val_loss: 0.0472 - val_accuracy: 0.9936\n"
     ]
    }
   ],
   "source": [
    "#Early stopping and training the first model (biLSTM-CNN)\n",
    "file_path1=\"best_weights_model1.hdf5\"\n",
    "chkpt1 = ModelCheckpoint(file_path1, 'val_loss', verbose=1, save_best_only=True, mode='min')\n",
    "early1 = EarlyStopping(\"val_loss\", mode=\"min\", patience=15)\n",
    "callbacks1 = [chkpt1, early1] \n",
    "#please note that validation split is similar to the train test split we used normally\n",
    "#so we save 10% of the data as validation data\n",
    "#https://keras.io/api/models/model_training_apis/#fit-method\n",
    "model1.fit(X_train, y, batch_size=batch_size, epochs=epochs, validation_split=0.1, callbacks=callbacks1)\n",
    "\n",
    "model1.load_weights(file_path1)\n"
   ]
  },
  {
   "cell_type": "code",
   "execution_count": 26,
   "metadata": {},
   "outputs": [
    {
     "name": "stdout",
     "output_type": "stream",
     "text": [
      "Epoch 1/2\n",
      "4488/4488 [==============================] - ETA: 0s - loss: 0.0715 - accuracy: 0.9550\n",
      "Epoch 00001: val_loss improved from inf to 0.05058, saving model to best_weights_model2.hdf5\n",
      "4488/4488 [==============================] - 449s 100ms/step - loss: 0.0715 - accuracy: 0.9550 - val_loss: 0.0506 - val_accuracy: 0.9940\n",
      "Epoch 2/2\n",
      "4488/4488 [==============================] - ETA: 0s - loss: 0.0450 - accuracy: 0.9884\n",
      "Epoch 00002: val_loss improved from 0.05058 to 0.04849, saving model to best_weights_model2.hdf5\n",
      "4488/4488 [==============================] - 457s 102ms/step - loss: 0.0450 - accuracy: 0.9884 - val_loss: 0.0485 - val_accuracy: 0.9940\n"
     ]
    }
   ],
   "source": [
    "#Early Stopping and training our second model (LSTM)\n",
    "file_path2=\"best_weights_model2.hdf5\"\n",
    "chkpt2 = ModelCheckpoint(file_path2,'val_loss',verbose=1, save_best_only=True, mode='min')\n",
    "early2 = EarlyStopping(\"val_loss\", mode=\"min\", patience=15)\n",
    "callbacks2 = [chkpt2, early2] \n",
    "#please note that validation split is similar to the train test split we used normally\n",
    "#so we save 10% of the data as validation data\n",
    "#https://keras.io/api/models/model_training_apis/#fit-method\n",
    "model2.fit(X_train, y, batch_size=batch_size, epochs=epochs, validation_split=0.1, callbacks=callbacks2)\n",
    "\n",
    "model2.load_weights(file_path2)\n"
   ]
  },
  {
   "cell_type": "code",
   "execution_count": 27,
   "metadata": {},
   "outputs": [
    {
     "name": "stdout",
     "output_type": "stream",
     "text": [
      "Model: \"functional_1\"\n",
      "_________________________________________________________________\n",
      "Layer (type)                 Output Shape              Param #   \n",
      "=================================================================\n",
      "input_3 (InputLayer)         [(None, 250)]             0         \n",
      "_________________________________________________________________\n",
      "embedding (Embedding)        (None, 250, 128)          3200000   \n",
      "_________________________________________________________________\n",
      "bidirectional (Bidirectional (None, 250, 120)          90720     \n",
      "_________________________________________________________________\n",
      "conv1d (Conv1D)              (None, 247, 64)           30784     \n",
      "_________________________________________________________________\n",
      "global_max_pooling1d (Global (None, 64)                0         \n",
      "_________________________________________________________________\n",
      "dropout (Dropout)            (None, 64)                0         \n",
      "_________________________________________________________________\n",
      "dense (Dense)                (None, 60)                3900      \n",
      "_________________________________________________________________\n",
      "dropout_1 (Dropout)          (None, 60)                0         \n",
      "_________________________________________________________________\n",
      "dense_1 (Dense)              (None, 6)                 366       \n",
      "=================================================================\n",
      "Total params: 3,325,770\n",
      "Trainable params: 3,325,770\n",
      "Non-trainable params: 0\n",
      "_________________________________________________________________\n"
     ]
    }
   ],
   "source": [
    "#This summarizes the layers and the output dimensions of model1\n",
    "model1.summary()  "
   ]
  },
  {
   "cell_type": "code",
   "execution_count": 28,
   "metadata": {},
   "outputs": [
    {
     "name": "stdout",
     "output_type": "stream",
     "text": [
      "Model: \"functional_3\"\n",
      "_________________________________________________________________\n",
      "Layer (type)                 Output Shape              Param #   \n",
      "=================================================================\n",
      "input_4 (InputLayer)         [(None, 250)]             0         \n",
      "_________________________________________________________________\n",
      "embedding_1 (Embedding)      (None, 250, 128)          3200000   \n",
      "_________________________________________________________________\n",
      "lstm (LSTM)                  (None, 250, 60)           45360     \n",
      "_________________________________________________________________\n",
      "global_max_pooling1d_1 (Glob (None, 60)                0         \n",
      "_________________________________________________________________\n",
      "dropout_2 (Dropout)          (None, 60)                0         \n",
      "_________________________________________________________________\n",
      "dense_2 (Dense)              (None, 60)                3660      \n",
      "_________________________________________________________________\n",
      "dropout_3 (Dropout)          (None, 60)                0         \n",
      "_________________________________________________________________\n",
      "dense_3 (Dense)              (None, 6)                 366       \n",
      "=================================================================\n",
      "Total params: 3,249,386\n",
      "Trainable params: 3,249,386\n",
      "Non-trainable params: 0\n",
      "_________________________________________________________________\n"
     ]
    }
   ],
   "source": [
    "#This summarizes the layers and the output dimensions of model1\n",
    "model2.summary()"
   ]
  },
  {
   "cell_type": "code",
   "execution_count": null,
   "metadata": {},
   "outputs": [],
   "source": []
  }
 ],
 "metadata": {
  "kernelspec": {
   "display_name": "Python 3",
   "language": "python",
   "name": "python3"
  },
  "language_info": {
   "codemirror_mode": {
    "name": "ipython",
    "version": 3
   },
   "file_extension": ".py",
   "mimetype": "text/x-python",
   "name": "python",
   "nbconvert_exporter": "python",
   "pygments_lexer": "ipython3",
   "version": "3.7.6"
  }
 },
 "nbformat": 4,
 "nbformat_minor": 4
}
